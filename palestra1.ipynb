{
 "cells": [
  {
   "cell_type": "markdown",
   "metadata": {},
   "source": [
    "# Inteligência Artificial"
   ]
  },
  {
   "cell_type": "markdown",
   "metadata": {},
   "source": [
    "- Inteligência Artificial é a imitação da vida\n",
    "- 1950: os primeiros computadores construindo a história da IA\n",
    "- Inverno da IA: empolgaçãgito seguido por uma desilusão \n",
    "- Ia baseada em lógica fgoi perdendo espaço para uma IA baseada em dados e estatística \n",
    "- Machine Learning aplicada ao comércio\n",
    "- Redes neurais, big data (clound computer e Databricks)\n",
    "- \"maquina Viva\" : mitologia, grecia antiga, china \n",
    "- XVII: Dispositivos \"Autômatos\"    \n",
    "- Filosofos- pensamento humano pode ser simulado por simbolos\n",
    "- Alan turing  (1912-1954): teste máquina de turing (máquina tem ou não tem inteligência similar a humana)\n",
    "- Quem você considera ser inteligênte:  \n",
    "- Linguistica \n",
    "- Artistica \n",
    "- Númerica \n",
    "- Sensorial \n",
    "- Emocional \n",
    "- Física \n",
    "- Reflexiva \n",
    "\"Eu sei que sou inteligênte porque eu sei que nada sei\" Socrátes"
   ]
  },
  {
   "cell_type": "markdown",
   "metadata": {},
   "source": [
    "# O Que é a Inteligência Artificial?\n",
    "# Entendendo a Inteligência Artificial\n",
    "\n",
    "- IA refere-se ao campo tecnológico que desenvolve sistemas capazes de executar atividades e solucionar problemas que, tradicionalmente, dependem do intelecto humano.\n",
    "\n",
    "- É um ramo da computação cujo objetivo é projetar e criar mecanismos dotados de inteligência.\n",
    "\n",
    "- Emprega o pensamento lógico como base para a execução de operações de alta complexidade.\n",
    "\n",
    "- Possui a habilidade de compreender a comunicação humana e interpretar ordens dadas verbalmente."
   ]
  },
  {
   "cell_type": "markdown",
   "metadata": {},
   "source": [
    "# As Raízes da IA\n",
    "\n",
    "- **Marco Inicial:** A década de 1950 marcou o nascimento da Inteligência Artificial como uma disciplina acadêmica formal.\n",
    "- **Precursor Intelectual:** Alan Turing é reconhecido como uma figura-chave na investigação sobre máquinas com capacidade de raciocínio.\n",
    "- **Método de Avaliação (1950):** Foi proposto o \"Teste de Turing\", um critério para determinar se um computador poderia exibir um comportamento indistinguível do de um ser humano.\n",
    "- **Batismo do Campo (1956):** O termo \"Inteligência Artificial\" foi formalmente estabelecido durante a histórica Conferência de Dartmouth."
   ]
  },
  {
   "cell_type": "markdown",
   "metadata": {},
   "source": [
    "# A Inteligência Artificial em Nosso Dia a Dia\n",
    "\n",
    "- **Otimização de Trajetos:** Ferramentas de geolocalização, como aplicativos de mapas, analisam as condições do tráfego instantaneamente para propor os melhores caminhos.\n",
    "- **Sugestões de Mídia:** Serviços de streaming personalizam a experiência do usuário, indicando filmes, séries e músicas alinhados ao seu histórico de consumo.\n",
    "- **Apoio Digital:** Assistentes operados por voz ou texto simplificam o acesso a uma vasta gama de informações e funcionalidades em dispositivos eletrônicos.\n",
    "- **Comandos por Voz:** A tecnologia de reconhecimento vocal possibilita que os usuários realizem pesquisas e controlem aparelhos utilizando apenas a fala.\n",
    "\n"
   ]
  },
  {
   "cell_type": "markdown",
   "metadata": {},
   "source": [
    "# Redes Neurais\n",
    "- **Modelo Biológico:** Sua concepção é espelhada na estrutura e operação das redes de neurônios do cérebro humano (Sistmema Nervoso).\n",
    "- **Arquitetura Computacional:** São compostas por múltiplos níveis de nós interligados que analisam e transmitem informações.\n",
    "- **Habilidades Principais:** Possuem a competência de aprender a partir de grandes volumes de dados, reconhecer tendências e realizar escolhas autônomas.\n",
    "- **Usos Práticos:** São empregadas em tarefas como a identificação de objetos em imagens, a interpretação da linguagem humana e a elaboração de previsões.\n",
    "\n",
    "- Inspiração biológica: Baseadas no funcionamento do sistema nervoso humano\n",
    "- Estrutura: Camadas de neurônios artificiais interconectados que processam informações\n",
    "- Capacidades: Aprendizado com dados, identificação de padrões e tomada de decisões\n",
    "- Aplicações: Reconhecimento de imagem, processamento de linguagem natural, previsões\n",
    "\n",
    "\n",
    "# História das Redes Neurais\n",
    "\n",
    "## Os Primórdios (Década de 40)\n",
    "\n",
    "### O Neurônio de McCulloch-Pitts\n",
    "\n",
    "-   O marco zero da jornada, proposto em **1943** por **Warren McCulloch** e **Walter Pitts**.\n",
    "-   Era um modelo matemático simples inspirado no neurônio biológico.\n",
    "-   **Funcionamento:** Recebia entradas binárias (0/1), somava os valores e, se o total atingisse um limiar, \"disparava\" uma única saída (0/1).\n",
    "-   **Significado:** Embora fosse um modelo puramente conceitual **sem capacidade de aprendizado**, provou que circuitos neurais simples poderiam executar operações lógicas como **E (AND)** e **OU (OR)**.\n",
    "\n",
    "## O Surgimento do Aprendizado (Década de 50)\n",
    "\n",
    "### O Perceptron de Rosenblatt\n",
    "\n",
    "-   Em **1958**, o psicólogo **Frank Rosenblatt** introduziu a peça que faltava: **o aprendizado**.\n",
    "-   **A Inovação:** Seu **Perceptron** atribuiu **pesos** às conexões de entrada. Um algoritmo ajustava esses pesos automaticamente para minimizar os erros de classificação.\n",
    "-   **Significado:** Foi a primeira demonstração prática de uma máquina capaz de **aprender com exemplos** para reconhecer e classificar padrões visuais.\n",
    "\n",
    "## Limitações e o Primeiro \"Inverno da IA\" (1969 - Anos 80)\n",
    "\n",
    "### A Crítica de \"Perceptrons\" e o Problema do XOR\n",
    "\n",
    "-   Em **1969**, o influente livro **\"Perceptrons\"**, de **Marvin Minsky** e **Seymour Papert**, expôs uma falha fatal no modelo.\n",
    "-   **A Limitação:** Eles provaram que o Perceptron de camada única era incapaz de resolver problemas que não fossem **linearmente separáveis**.\n",
    "-   **O Exemplo Matador:** O problema lógico do **XOR (OU Exclusivo)**, onde é impossível separar os resultados com uma única linha reta.\n",
    "-   **Consequência:** A crítica foi tão devastadora que o financiamento para a pesquisa em redes neurais praticamente desapareceu, dando início ao **Primeiro Inverno da IA**.\n",
    "\n",
    "## O Renascimento com o Backpropagation (Década de 80)\n",
    "\n",
    "### A Solução: Múltiplas Camadas e o Backpropagation\n",
    "\n",
    "-   A solução para a limitação do XOR era usar **múltiplas camadas** de neurônios (as **camadas ocultas**), criando as **Redes Neurais de Múltiplas Camadas (MLP)**.\n",
    "-   O grande avanço para treiná-las foi o algoritmo **Backpropagation (Retropropagação do Erro)**, popularizado em **1986** por **Geoffrey Hinton**, **David Rumelhart** e outros.\n",
    "-   **Funcionamento:** O algoritmo calcula o erro na saída final e o propaga **de trás para frente**, ajustando os pesos de todas as camadas para minimizar esse erro.\n",
    "-   **Significado:** O Backpropagation permitiu que as redes aprendessem padrões **não-lineares** e extremamente complexos, resolvendo o problema do **XOR** e reacendendo o campo da IA.\n",
    "\n",
    "## A Era do Deep Learning (Anos 2000 - Hoje)\n",
    "\n",
    "### A Tempestade Perfeita: Os 3 Fatores do Sucesso\n",
    "\n",
    "-   O **Deep Learning** (o uso de redes neurais com muitas camadas) explodiu graças à convergência de três fatores:\n",
    "    1.  **Big Data:** A internet gerou volumes massivos de dados (ex: **ImageNet**), o \"combustível\" essencial para treinar modelos robustos.\n",
    "    2.  **Hardware Poderoso (GPUs):** A descoberta de que **placas de vídeo (GPUs)** podiam acelerar os cálculos em até 100x tornou o treinamento de redes profundas rápido e viável.\n",
    "    3.  **Algoritmos Aprimorados:** Novas arquiteturas e técnicas (como a função de ativação **ReLU**) desenvolvidas por pioneiros como **Hinton**, **Yann LeCun** e **Yoshua Bengio** superaram antigos obstáculos.\n",
    "\n",
    "### O Momento \"Big Bang\": AlexNet (2012)\n",
    "\n",
    "-   O marco definitivo foi em **2012**, quando a rede neural **AlexNet**, de **Geoffrey Hinton** e sua equipe, venceu a competição de visão computacional **ImageNet** com uma performance esmagadoramente superior.\n",
    "-   **Significado:** Este evento provou ao mundo, de forma incontestável, a superioridade da abordagem de Deep Learning e deu início à corrida da IA que vivemos hoje.\n",
    "\n",
    "### O Impacto Atual\n",
    "\n",
    "-   Hoje, o Deep Learning é a tecnologia por trás de inovações que transformam nosso mundo:\n",
    "    -   **Visão Computacional:** Reconhecimento facial, carros autônomos e diagnósticos médicos.\n",
    "    -   **Processamento de Linguagem Natural (PLN):** Tradutores, chatbots e assistentes virtuais.\n",
    "    -   **IA Generativa:** Modelos como **GPT** e **DALL-E** que criam textos, imagens e códigos originais."
   ]
  },
  {
   "cell_type": "markdown",
   "metadata": {},
   "source": [
    "# Inteligência Artificial\n",
    "\n",
    "- **Inteligência Artificial (o nome do campo)**: O termo \"Inteligência Artificial\" só foi criado em 1956, por John McCarthy e outros pesquisadores para um famoso workshop de verão em Dartmouth College. Este evento é considerado o nascimento oficial da IA como um campo de estudo.\n",
    "\n",
    "- A rede neural foi uma das primeiras técnicas propostas para se alcançar a inteligência artificial. A ideia de criar um \"cérebro artificial\" (rede neural) existia antes mesmo de todo o campo de estudo ganhar o nome formal de \"Inteligência Artificial\"."
   ]
  },
  {
   "cell_type": "markdown",
   "metadata": {},
   "source": [
    "# IA Geral (ou Forte) - Inteligência Artificial Geral (AGI) +top\n",
    "\n",
    "*Status: Em fase de pesquisa e concepção.*\n",
    "\n",
    "- O que é Inteligência Artificial Geral (IA Forte)?\n",
    "A Inteligência Artificial Geral (AGI ou IA Forte) é um conceito teórico que descreve uma forma de IA com capacidades cognitivas semelhantes às de um ser humano. Uma AGI seria capaz de:\n",
    "\n",
    "- Compreender, aprender e aplicar conhecimento em uma vasta gama de tarefas e domínios diferentes, sem a necessidade de ser especificamente treinada para cada uma delas.\n",
    "\n",
    "- Raciocinar, resolver problemas complexos, pensar de forma abstrata e fazer planejamentos estratégicos.\n",
    "\n",
    "- Possuir consciência, autoconsciência e senciência, ou seja, ter experiências subjetivas e uma compreensão do seu próprio \"eu\".\n",
    "\n",
    "Uma AGI poderia, por exemplo, aprender a cozinhar, depois aprender a programar um software e, em seguida, compor uma sinfonia, aplicando o aprendizado de uma área para acelerar o entendimento em outra. Atualmente, a IA Forte permanece no campo da ficção científica e da pesquisa teórica; não existe nenhum exemplo prático de uma AGI em funcionamento..\n"
   ]
  },
  {
   "cell_type": "markdown",
   "metadata": {},
   "source": [
    "# Inteligência Artificial Fraca (ou IA Restrita) \n",
    "\n",
    "-São os modelos de linguagem avançados atualmentes como o GPT (Generative Pre-trained Transformer).\n",
    "\n",
    "## Conceituação\n",
    "Sistemas de IA projetados para executar uma função particular com alta performance, porém limitados ao escopo para o qual foram desenvolvidos.\n",
    "\n",
    "### Atributos\n",
    "- Foco em desafios pontuais.\n",
    "- Seu aprendizado é baseado em bancos de dados específicos para sua função.\n",
    "- Carece de autoconsciência ou de uma cognição abrangente.\n",
    "- **Ilustrações:** Assistentes de conversação (chatbots), ferramentas de análise de imagem e modelos de linguagem generativos (como o ChatGPT).\n"
   ]
  },
  {
   "cell_type": "markdown",
   "metadata": {},
   "source": [
    "# O que é o GPT e como ele se encaixa nisso?\n",
    "- O GPT é uma família de modelos de linguagem grandes (LLMs) desenvolvidos pela OpenAI. Ele é treinado com uma quantidade massiva de dados de texto e, a partir disso, aprende padrões, gramática, fatos e estilos de escrita. Isso o torna extremamente proficiente em tarefas relacionadas à linguagem, tais como:\n",
    "\n",
    "- Gerar textos coerentes e criativos.\n",
    "\n",
    "- Traduzir idiomas.\n",
    "\n",
    "- Resumir informações.\n",
    "\n",
    "- Responder a perguntas de forma detalhada.\n",
    "\n",
    "- Escrever códigos de programação.\n",
    "\n",
    "- Modelos mais recentes, como o GPT-4, são multimodais, o que significa que também podem interpretar e analisar imagens.\n",
    "\n",
    "### A Diferença Fundamental: Especialização vs. Generalização Verdadeira\n",
    "### A principal razão pela qual o GPT não é considerado uma IA Geral reside na sua natureza.\n"
   ]
  },
  {
   "cell_type": "markdown",
   "metadata": {},
   "source": [
    "| Característica | GPT (IA Restrita / Fraca) | Inteligência Artificial Geral (IA Forte) |\n",
    "| :--- | :--- | :--- |\n",
    "| **Escopo** | É altamente especializado em tarefas para as quais foi treinado (principalmente linguagem). | Possui capacidade de aprendizado e atuação em **qualquer** tarefa intelectual humana. |\n",
    "| **Aprendizado** | Aprende a partir de um conjunto de dados estático e não aprende continuamente com novas experiências em tempo real. | Aprende de forma autônoma e contínua com a experiência e o ambiente. |\n",
    "| **Compreensão** | Simula a compreensão através do reconhecimento de padrões em dados. Não possui entendimento genuíno do mundo. | Teria uma compreensão real e contextual do mundo, similar à humana. |\n",
    "| **Consciência** | Não possui consciência, sentimentos ou intenções próprias. | Seria autoconsciente e senciente. |\n",
    "| **Autonomia** | Opera dentro dos parâmetros e comandos fornecidos pelo usuário. | Seria capaz de definir seus próprios objetivos e agir de forma autônoma para alcançá-los. |"
   ]
  },
  {
   "cell_type": "markdown",
   "metadata": {},
   "source": [
    "\n",
    "**No momento em que vivemos, a capacidade de tomar decisões rápidas e inteligentes deixou de ser um diferencial para se tornar uma questão de sobrevivência. O sucesso não acontece por acaso; ele é construído sobre uma base sólida de estratégia e tecnologia. É exatamente nesse ponto que três conceitos se convergem para formar o epicentro da transformação digital moderna.**\n",
    "\n",
    "- **Cultura Data-Driven (a mentalidade que guia)**\n",
    "- **Entrada no mundo da Inteligência Artificial (a ferramenta que executa)**\n",
    "- **Centralidade dos Dados (o combustível que alimenta tudo)** \n",
    "\n",
    "Eles não são apenas tópicos relacionados, mas pilares interdependentes que definem os líderes do futuro.\n",
    "\n"
   ]
  },
  {
   "cell_type": "markdown",
   "metadata": {},
   "source": [
    "# 1 - Data-Driven "
   ]
  },
  {
   "cell_type": "markdown",
   "metadata": {},
   "source": [
    "Ser Data-Driven (orientado por dados) é uma filosofia de gestão e operação na qual as decisões são tomadas com base em análise e interpretação de dados, em vez de se basear apenas em intuição, experiência ou opinião. \n",
    "\n",
    "Pense em um capitão de navio. O capitão tradicional confia na sua experiência, olha para as nuvens e \"sente\" a direção do vento. O capitão data-driven também usa sua experiência, mas a complementa com dados de GPS, previsões meteorológicas avançadas, sonares e gráficos de corrente marítima para traçar a rota mais segura e eficiente."
   ]
  },
  {
   "cell_type": "markdown",
   "metadata": {},
   "source": [
    "- Uma empresa orientada a dados \n",
    "- Vocês já possuem dados, mas utilizão em uma visão datadrive \n",
    "- Netflix\n",
    "- Spotify \n",
    "- Wall Mart"
   ]
  },
  {
   "cell_type": "markdown",
   "metadata": {},
   "source": [
    "\n",
    "Na prática, uma cultura Data-Driven envolve:\n",
    "\n",
    "Coleta Estratégica: A empresa não apenas acumula dados, mas coleta informações que respondem a perguntas importantes sobre seus clientes, operações e mercado.\n",
    "\n",
    "Acesso Facilitado: Os dados são organizados e disponibilizados para as equipes que precisam deles, de forma clara e segura.\n",
    "\n",
    "Análise e Questionamento: A equipe é incentivada a fazer perguntas e usar os dados para encontrar respostas. \"O que aconteceu?\" (análise descritiva), \"Por que aconteceu?\" (diagnóstico), \"O que vai acontecer?\" (predição).\n",
    "\n",
    "Decisão Baseada em Evidências: A decisão final, seja sobre lançar um produto, ajustar uma campanha de marketing ou otimizar um processo, é validada com base no que os dados indicam."
   ]
  },
  {
   "cell_type": "markdown",
   "metadata": {},
   "source": [
    "# 2 - Entrada no mundo da Inteligência Artificial"
   ]
  },
  {
   "cell_type": "markdown",
   "metadata": {},
   "source": [
    "Como uma Pessoa ou Empresa Pode Entrar no Mundo da IA?\n",
    "\n",
    "**Para uma Pessoa (Carreira):**\n",
    "- Aprenda os Fundamentos: Não comece direto com IA. Construa uma base sólida em:\n",
    "\n",
    "- Lógica de Programação e Estatística: São os pilares.\n",
    "\n",
    "- Python: É a linguagem mais usada no mundo de dados e IA, com bibliotecas essenciais como Pandas, NumPy, Scikit-learn, TensorFlow e PyTorch.\n",
    "\n",
    "- SQL: Para saber como extrair e manipular dados de bancos de dados.\n",
    "\n",
    "**Especialize-se: O campo da IA é vasto. Escolha uma área para focar:**\n",
    "\n",
    "- Ciência de Dados (Data Science): Análise, visualização e criação de modelos preditivos para resolver problemas de negócio.\n",
    "\n",
    "- Engenharia de Machine Learning: Foco em criar, treinar e colocar os modelos de IA em produção de forma escalável.\n",
    "\n",
    "-Processamento de Linguagem Natural (PLN): Trabalhar com chatbots, análise de sentimentos, tradução, etc.\n",
    "\n",
    "- Visão Computacional: Trabalhar com reconhecimento de imagens e vídeos.\n",
    "\n",
    "- Pratique com Projetos Reais: Crie um portfólio. Participe de competições no Kaggle, desenvolva projetos pessoais (ex: um modelo para prever o preço de imóveis na sua cidade) e compartilhe seus resultados no GitHub ou em um blog.\n",
    "\n",
    "- Use Ferramentas de IA Generativa: Ferramentas como o Gemini e o ChatGPT são excelentes para acelerar o aprendizado, gerar códigos, depurar erros e entender conceitos complexos.\n",
    "\n",
    "**Para uma Empresa (Estratégia):**\n",
    "- Comece com um Problema de Negócio, Não com a Tecnologia: **A pergunta não deve ser \"como podemos usar IA?\"**, mas sim \"qual é o nosso maior desafio ou oportunidade que a IA poderia ajudar a resolver?\".\n",
    "\n",
    "  - Exemplos: Reduzir a taxa de cancelamento de clientes (churn), otimizar o estoque, personalizar recomendações de produtos, automatizar o atendimento ao cliente de primeiro nível.\n",
    "\n",
    "- Avalie a Maturidade dos Seus Dados: Você tem os dados necessários para resolver esse problema? Eles estão organizados e acessíveis? A qualidade é boa? Se a resposta for não, o primeiro passo é organizar a coleta e o armazenamento de dados (voltamos à cultura data-driven).\n",
    "\n",
    "- Comece Pequeno e Escalável: Inicie com um projeto piloto. Contrate um especialista ou uma consultoria para um projeto específico com metas claras. Isso prova o valor da IA com baixo risco antes de grandes investimentos.\n",
    "\n",
    "- Considere Ferramentas Prontas: Nem toda empresa precisa construir seus próprios modelos de IA do zero. Muitas ferramentas de mercado (CRMs, plataformas de marketing, sistemas de ERP) já vêm com funcionalidades de IA embarcadas que podem ser ativadas.\n",
    "\n",
    "- Capacite a Equipe: Promova uma cultura de dados. Treine os funcionários para que entendam as métricas básicas e saibam como usar as novas ferramentas e insights gerados pela IA."
   ]
  },
  {
   "cell_type": "markdown",
   "metadata": {},
   "source": [
    "# 3 - A Importância Crucial de Ter Dados\n",
    "\n",
    "**Se a IA é o motor de um carro de corrida, os dados são o combustível de alta performance. Sem dados, o motor mais potente do mundo não serve para nada.**\n",
    "\n",
    "## Por que os dados são tão vitais?\n",
    "\n",
    "**Treinamento de Modelos:** Modelos de Machine Learning aprendem por exemplos. Para ensinar uma IA a reconhecer um cliente com risco de cancelar o serviço, você precisa mostrar a ela milhares de exemplos históricos de clientes que cancelaram e dos que não cancelaram. Quanto mais dados de qualidade, mais preciso e inteligente será o modelo.\n",
    "\n",
    "**Personalização:** Plataformas como Netflix, Spotify e Amazon só conseguem recomendar o que você gosta porque analisam seu histórico de dados: o que você assistiu, ouviu, comprou e até o que você pulou. Sem esses dados, a experiência seria genérica e pouco atrativa.\n",
    "\n",
    "**Tomada de Decisão Automatizada:** Sistemas de aprovação de crédito, detecção de fraudes em cartão ou otimização de rotas de entrega funcionam em tempo real porque foram treinados com um volume massivo de dados históricos para identificar padrões e tomar decisões em milissegundos.\n",
    "\n",
    "**Vantagem Competitiva:** Em muitos setores, a empresa que possui o conjunto de dados mais rico, exclusivo e bem organizado sobre seus clientes e seu mercado tem a maior vantagem competitiva. Os dados se tornaram um dos ativos mais valiosos de uma organização.\n",
    "\n",
    "**Conclusão:** A jornada começa com a criação de uma cultura data-driven, que valoriza e organiza os dados. Com esses dados de qualidade em mãos, uma pessoa ou empresa pode começar a aplicar Inteligência Artificial para resolver problemas reais, gerando um ciclo virtuoso onde as próprias soluções de IA geram novos dados, tornando o sistema cada vez mais inteligente e eficiente."
   ]
  },
  {
   "cell_type": "markdown",
   "metadata": {},
   "source": [
    "# A IA no seu dia a dia \n",
    "- google maps\n",
    "- waze\n",
    "- Netflix\n",
    "- Amazon prime\n",
    "- Disney Plus   \n",
    "- HBO\n",
    "- Max"
   ]
  },
  {
   "cell_type": "markdown",
   "metadata": {},
   "source": [
    "#   Google Maps                 \n",
    " - Probabilidade de diferentes rotas \n",
    " - 4 possibilidades de caminhos  "
   ]
  },
  {
   "cell_type": "markdown",
   "metadata": {},
   "source": [
    "# Filmes \n",
    "\n",
    "- Entreterimento sob demanda\n",
    "- Navegação rm busca de um filme "
   ]
  },
  {
   "cell_type": "markdown",
   "metadata": {},
   "source": [
    "# Dataset games "
   ]
  },
  {
   "cell_type": "markdown",
   "metadata": {},
   "source": [
    "- A importancia do DataSet  \"de o empressário manter dados\"\n",
    "- Data driven - Uma cultura orientada a dados  \n",
    "- EDA: Análise exploratória de dados   \"$\""
   ]
  },
  {
   "cell_type": "markdown",
   "metadata": {},
   "source": []
  },
  {
   "cell_type": "code",
   "execution_count": 9,
   "metadata": {},
   "outputs": [
    {
     "name": "stdout",
     "output_type": "stream",
     "text": [
      "Collecting pandas\n",
      "  Downloading pandas-2.3.2-cp313-cp313-win_amd64.whl.metadata (19 kB)\n",
      "Collecting numpy>=1.26.0 (from pandas)\n",
      "  Downloading numpy-2.3.3-cp313-cp313-win_amd64.whl.metadata (60 kB)\n",
      "Requirement already satisfied: python-dateutil>=2.8.2 in c:\\users\\nayan\\appdata\\roaming\\python\\python313\\site-packages (from pandas) (2.9.0.post0)\n",
      "Collecting pytz>=2020.1 (from pandas)\n",
      "  Downloading pytz-2025.2-py2.py3-none-any.whl.metadata (22 kB)\n",
      "Collecting tzdata>=2022.7 (from pandas)\n",
      "  Downloading tzdata-2025.2-py2.py3-none-any.whl.metadata (1.4 kB)\n",
      "Requirement already satisfied: six>=1.5 in c:\\users\\nayan\\appdata\\roaming\\python\\python313\\site-packages (from python-dateutil>=2.8.2->pandas) (1.17.0)\n",
      "Downloading pandas-2.3.2-cp313-cp313-win_amd64.whl (11.0 MB)\n",
      "   ---------------------------------------- 0.0/11.0 MB ? eta -:--:--\n",
      "   --------------------------- ------------ 7.6/11.0 MB 44.0 MB/s eta 0:00:01\n",
      "   ---------------------------------------- 11.0/11.0 MB 45.0 MB/s  0:00:00\n",
      "Downloading numpy-2.3.3-cp313-cp313-win_amd64.whl (12.8 MB)\n",
      "   ---------------------------------------- 0.0/12.8 MB ? eta -:--:--\n",
      "   ---------------------------------------  12.6/12.8 MB 67.2 MB/s eta 0:00:01\n",
      "   ---------------------------------------- 12.8/12.8 MB 60.5 MB/s  0:00:00\n",
      "Downloading pytz-2025.2-py2.py3-none-any.whl (509 kB)\n",
      "Downloading tzdata-2025.2-py2.py3-none-any.whl (347 kB)\n",
      "Installing collected packages: pytz, tzdata, numpy, pandas\n",
      "\n",
      "   ---------------------------------------- 0/4 [pytz]\n",
      "   ---------------------------------------- 0/4 [pytz]\n",
      "   ---------- ----------------------------- 1/4 [tzdata]\n",
      "   ---------- ----------------------------- 1/4 [tzdata]\n",
      "   -------------------- ------------------- 2/4 [numpy]\n",
      "   -------------------- ------------------- 2/4 [numpy]\n",
      "   -------------------- ------------------- 2/4 [numpy]\n",
      "   -------------------- ------------------- 2/4 [numpy]\n",
      "   -------------------- ------------------- 2/4 [numpy]\n",
      "   -------------------- ------------------- 2/4 [numpy]\n",
      "   -------------------- ------------------- 2/4 [numpy]\n",
      "   -------------------- ------------------- 2/4 [numpy]\n",
      "   -------------------- ------------------- 2/4 [numpy]\n",
      "   -------------------- ------------------- 2/4 [numpy]\n",
      "   -------------------- ------------------- 2/4 [numpy]\n",
      "   -------------------- ------------------- 2/4 [numpy]\n",
      "   -------------------- ------------------- 2/4 [numpy]\n",
      "   -------------------- ------------------- 2/4 [numpy]\n",
      "   -------------------- ------------------- 2/4 [numpy]\n",
      "   -------------------- ------------------- 2/4 [numpy]\n",
      "   -------------------- ------------------- 2/4 [numpy]\n",
      "   -------------------- ------------------- 2/4 [numpy]\n",
      "   -------------------- ------------------- 2/4 [numpy]\n",
      "   -------------------- ------------------- 2/4 [numpy]\n",
      "   -------------------- ------------------- 2/4 [numpy]\n",
      "   -------------------- ------------------- 2/4 [numpy]\n",
      "   -------------------- ------------------- 2/4 [numpy]\n",
      "   -------------------- ------------------- 2/4 [numpy]\n",
      "   -------------------- ------------------- 2/4 [numpy]\n",
      "   -------------------- ------------------- 2/4 [numpy]\n",
      "   -------------------- ------------------- 2/4 [numpy]\n",
      "   -------------------- ------------------- 2/4 [numpy]\n",
      "   -------------------- ------------------- 2/4 [numpy]\n",
      "   -------------------- ------------------- 2/4 [numpy]\n",
      "   -------------------- ------------------- 2/4 [numpy]\n",
      "   -------------------- ------------------- 2/4 [numpy]\n",
      "   -------------------- ------------------- 2/4 [numpy]\n",
      "   -------------------- ------------------- 2/4 [numpy]\n",
      "   -------------------- ------------------- 2/4 [numpy]\n",
      "   -------------------- ------------------- 2/4 [numpy]\n",
      "   -------------------- ------------------- 2/4 [numpy]\n",
      "   -------------------- ------------------- 2/4 [numpy]\n",
      "   -------------------- ------------------- 2/4 [numpy]\n",
      "   -------------------- ------------------- 2/4 [numpy]\n",
      "   -------------------- ------------------- 2/4 [numpy]\n",
      "   -------------------- ------------------- 2/4 [numpy]\n",
      "   ------------------------------ --------- 3/4 [pandas]\n",
      "   ------------------------------ --------- 3/4 [pandas]\n",
      "   ------------------------------ --------- 3/4 [pandas]\n",
      "   ------------------------------ --------- 3/4 [pandas]\n",
      "   ------------------------------ --------- 3/4 [pandas]\n",
      "   ------------------------------ --------- 3/4 [pandas]\n",
      "   ------------------------------ --------- 3/4 [pandas]\n",
      "   ------------------------------ --------- 3/4 [pandas]\n",
      "   ------------------------------ --------- 3/4 [pandas]\n",
      "   ------------------------------ --------- 3/4 [pandas]\n",
      "   ------------------------------ --------- 3/4 [pandas]\n",
      "   ------------------------------ --------- 3/4 [pandas]\n",
      "   ------------------------------ --------- 3/4 [pandas]\n",
      "   ------------------------------ --------- 3/4 [pandas]\n",
      "   ------------------------------ --------- 3/4 [pandas]\n",
      "   ------------------------------ --------- 3/4 [pandas]\n",
      "   ------------------------------ --------- 3/4 [pandas]\n",
      "   ------------------------------ --------- 3/4 [pandas]\n",
      "   ------------------------------ --------- 3/4 [pandas]\n",
      "   ------------------------------ --------- 3/4 [pandas]\n",
      "   ------------------------------ --------- 3/4 [pandas]\n",
      "   ------------------------------ --------- 3/4 [pandas]\n",
      "   ------------------------------ --------- 3/4 [pandas]\n",
      "   ------------------------------ --------- 3/4 [pandas]\n",
      "   ------------------------------ --------- 3/4 [pandas]\n",
      "   ------------------------------ --------- 3/4 [pandas]\n",
      "   ------------------------------ --------- 3/4 [pandas]\n",
      "   ------------------------------ --------- 3/4 [pandas]\n",
      "   ------------------------------ --------- 3/4 [pandas]\n",
      "   ------------------------------ --------- 3/4 [pandas]\n",
      "   ------------------------------ --------- 3/4 [pandas]\n",
      "   ------------------------------ --------- 3/4 [pandas]\n",
      "   ------------------------------ --------- 3/4 [pandas]\n",
      "   ------------------------------ --------- 3/4 [pandas]\n",
      "   ------------------------------ --------- 3/4 [pandas]\n",
      "   ------------------------------ --------- 3/4 [pandas]\n",
      "   ------------------------------ --------- 3/4 [pandas]\n",
      "   ------------------------------ --------- 3/4 [pandas]\n",
      "   ------------------------------ --------- 3/4 [pandas]\n",
      "   ------------------------------ --------- 3/4 [pandas]\n",
      "   ------------------------------ --------- 3/4 [pandas]\n",
      "   ------------------------------ --------- 3/4 [pandas]\n",
      "   ------------------------------ --------- 3/4 [pandas]\n",
      "   ------------------------------ --------- 3/4 [pandas]\n",
      "   ------------------------------ --------- 3/4 [pandas]\n",
      "   ------------------------------ --------- 3/4 [pandas]\n",
      "   ------------------------------ --------- 3/4 [pandas]\n",
      "   ------------------------------ --------- 3/4 [pandas]\n",
      "   ------------------------------ --------- 3/4 [pandas]\n",
      "   ------------------------------ --------- 3/4 [pandas]\n",
      "   ------------------------------ --------- 3/4 [pandas]\n",
      "   ------------------------------ --------- 3/4 [pandas]\n",
      "   ------------------------------ --------- 3/4 [pandas]\n",
      "   ------------------------------ --------- 3/4 [pandas]\n",
      "   ------------------------------ --------- 3/4 [pandas]\n",
      "   ------------------------------ --------- 3/4 [pandas]\n",
      "   ------------------------------ --------- 3/4 [pandas]\n",
      "   ------------------------------ --------- 3/4 [pandas]\n",
      "   ------------------------------ --------- 3/4 [pandas]\n",
      "   ------------------------------ --------- 3/4 [pandas]\n",
      "   ------------------------------ --------- 3/4 [pandas]\n",
      "   ------------------------------ --------- 3/4 [pandas]\n",
      "   ------------------------------ --------- 3/4 [pandas]\n",
      "   ------------------------------ --------- 3/4 [pandas]\n",
      "   ------------------------------ --------- 3/4 [pandas]\n",
      "   ------------------------------ --------- 3/4 [pandas]\n",
      "   ------------------------------ --------- 3/4 [pandas]\n",
      "   ------------------------------ --------- 3/4 [pandas]\n",
      "   ------------------------------ --------- 3/4 [pandas]\n",
      "   ------------------------------ --------- 3/4 [pandas]\n",
      "   ------------------------------ --------- 3/4 [pandas]\n",
      "   ------------------------------ --------- 3/4 [pandas]\n",
      "   ------------------------------ --------- 3/4 [pandas]\n",
      "   ------------------------------ --------- 3/4 [pandas]\n",
      "   ------------------------------ --------- 3/4 [pandas]\n",
      "   ------------------------------ --------- 3/4 [pandas]\n",
      "   ------------------------------ --------- 3/4 [pandas]\n",
      "   ------------------------------ --------- 3/4 [pandas]\n",
      "   ------------------------------ --------- 3/4 [pandas]\n",
      "   ------------------------------ --------- 3/4 [pandas]\n",
      "   ------------------------------ --------- 3/4 [pandas]\n",
      "   ------------------------------ --------- 3/4 [pandas]\n",
      "   ------------------------------ --------- 3/4 [pandas]\n",
      "   ------------------------------ --------- 3/4 [pandas]\n",
      "   ------------------------------ --------- 3/4 [pandas]\n",
      "   ------------------------------ --------- 3/4 [pandas]\n",
      "   ------------------------------ --------- 3/4 [pandas]\n",
      "   ------------------------------ --------- 3/4 [pandas]\n",
      "   ------------------------------ --------- 3/4 [pandas]\n",
      "   ------------------------------ --------- 3/4 [pandas]\n",
      "   ------------------------------ --------- 3/4 [pandas]\n",
      "   ------------------------------ --------- 3/4 [pandas]\n",
      "   ------------------------------ --------- 3/4 [pandas]\n",
      "   ------------------------------ --------- 3/4 [pandas]\n",
      "   ------------------------------ --------- 3/4 [pandas]\n",
      "   ------------------------------ --------- 3/4 [pandas]\n",
      "   ------------------------------ --------- 3/4 [pandas]\n",
      "   ------------------------------ --------- 3/4 [pandas]\n",
      "   ------------------------------ --------- 3/4 [pandas]\n",
      "   ------------------------------ --------- 3/4 [pandas]\n",
      "   ------------------------------ --------- 3/4 [pandas]\n",
      "   ------------------------------ --------- 3/4 [pandas]\n",
      "   ------------------------------ --------- 3/4 [pandas]\n",
      "   ------------------------------ --------- 3/4 [pandas]\n",
      "   ------------------------------ --------- 3/4 [pandas]\n",
      "   ------------------------------ --------- 3/4 [pandas]\n",
      "   ------------------------------ --------- 3/4 [pandas]\n",
      "   ------------------------------ --------- 3/4 [pandas]\n",
      "   ------------------------------ --------- 3/4 [pandas]\n",
      "   ------------------------------ --------- 3/4 [pandas]\n",
      "   ------------------------------ --------- 3/4 [pandas]\n",
      "   ------------------------------ --------- 3/4 [pandas]\n",
      "   ------------------------------ --------- 3/4 [pandas]\n",
      "   ------------------------------ --------- 3/4 [pandas]\n",
      "   ------------------------------ --------- 3/4 [pandas]\n",
      "   ------------------------------ --------- 3/4 [pandas]\n",
      "   ------------------------------ --------- 3/4 [pandas]\n",
      "   ------------------------------ --------- 3/4 [pandas]\n",
      "   ---------------------------------------- 4/4 [pandas]\n",
      "\n",
      "Successfully installed numpy-2.3.3 pandas-2.3.2 pytz-2025.2 tzdata-2025.2\n"
     ]
    }
   ],
   "source": [
    "! pip install pandas "
   ]
  },
  {
   "cell_type": "code",
   "execution_count": 10,
   "metadata": {},
   "outputs": [],
   "source": [
    "# importando o pandas\n",
    "\n",
    "import pandas as pd "
   ]
  },
  {
   "cell_type": "markdown",
   "metadata": {},
   "source": [
    "# Dataset jogos"
   ]
  },
  {
   "cell_type": "code",
   "execution_count": null,
   "metadata": {},
   "outputs": [],
   "source": [
    "# DataFrame\n",
    "df_jogos = pd.read_csv('dataset/steam_200k.csv')"
   ]
  },
  {
   "cell_type": "code",
   "execution_count": null,
   "metadata": {},
   "outputs": [
    {
     "data": {
      "text/plain": [
       "<bound method NDFrame.head of         151603712  The Elder Scrolls V Skyrim  purchase    1.0  0\n",
       "0       151603712  The Elder Scrolls V Skyrim      play  273.0  0\n",
       "1       151603712                   Fallout 4  purchase    1.0  0\n",
       "2       151603712                   Fallout 4      play   87.0  0\n",
       "3       151603712                       Spore  purchase    1.0  0\n",
       "4       151603712                       Spore      play   14.9  0\n",
       "...           ...                         ...       ...    ... ..\n",
       "199994  128470551                 Titan Souls      play    1.5  0\n",
       "199995  128470551  Grand Theft Auto Vice City  purchase    1.0  0\n",
       "199996  128470551  Grand Theft Auto Vice City      play    1.5  0\n",
       "199997  128470551                        RUSH  purchase    1.0  0\n",
       "199998  128470551                        RUSH      play    1.4  0\n",
       "\n",
       "[199999 rows x 5 columns]>"
      ]
     },
     "execution_count": 18,
     "metadata": {},
     "output_type": "execute_result"
    }
   ],
   "source": [
    "df_jogos.head"
   ]
  },
  {
   "cell_type": "markdown",
   "metadata": {},
   "source": [
    "# Dataset filmes "
   ]
  },
  {
   "cell_type": "code",
   "execution_count": null,
   "metadata": {},
   "outputs": [],
   "source": [
    "# Dataframe\n",
    "df_filmes = pd.read_csv('Dataset/fimes.csv')"
   ]
  },
  {
   "cell_type": "code",
   "execution_count": null,
   "metadata": {},
   "outputs": [
    {
     "data": {
      "text/plain": [
       "<bound method NDFrame.head of                                                   review sentiment\n",
       "0      One of the other reviewers has mentioned that ...  positive\n",
       "1      A wonderful little production. <br /><br />The...  positive\n",
       "2      I thought this was a wonderful way to spend ti...  positive\n",
       "3      Basically there's a family where a little boy ...  negative\n",
       "4      Petter Mattei's \"Love in the Time of Money\" is...  positive\n",
       "...                                                  ...       ...\n",
       "49995  I thought this movie did a down right good job...  positive\n",
       "49996  Bad plot, bad dialogue, bad acting, idiotic di...  negative\n",
       "49997  I am a Catholic taught in parochial elementary...  negative\n",
       "49998  I'm going to have to disagree with the previou...  negative\n",
       "49999  No one expects the Star Trek movies to be high...  negative\n",
       "\n",
       "[50000 rows x 2 columns]>"
      ]
     },
     "execution_count": 19,
     "metadata": {},
     "output_type": "execute_result"
    }
   ],
   "source": [
    "df_filmes.head"
   ]
  },
  {
   "cell_type": "markdown",
   "metadata": {},
   "source": [
    "<img src=\"dataset/foto.png\" width=\"600\" height=\"600\">"
   ]
  },
  {
   "cell_type": "code",
   "execution_count": 12,
   "metadata": {},
   "outputs": [
    {
     "data": {
      "text/html": [
       "<iframe width=\"560\" height=\"315\" src=\"https://www.youtube.com/embed/tTq6Tofmo7E\" title=\"YouTube video player\" frameborder=\"0\" allow=\"accelerometer; autoplay; clipboard-write; encrypted-media; gyroscope; picture-in-picture\" allowfullscreen></iframe>"
      ],
      "text/plain": [
       "<IPython.core.display.HTML object>"
      ]
     },
     "execution_count": 12,
     "metadata": {},
     "output_type": "execute_result"
    }
   ],
   "source": [
    "from IPython.display import HTML\n",
    "\n",
    "HTML('<iframe width=\"560\" height=\"315\" src=\"https://www.youtube.com/embed/tTq6Tofmo7E\" title=\"YouTube video player\" frameborder=\"0\" allow=\"accelerometer; autoplay; clipboard-write; encrypted-media; gyroscope; picture-in-picture\" allowfullscreen></iframe>')"
   ]
  },
  {
   "cell_type": "code",
   "execution_count": 17,
   "metadata": {},
   "outputs": [
    {
     "data": {
      "text/html": [
       "<iframe width=\"560\" height=\"315\" src=\"https://www.youtube.com/embed/oRRpy-41Or8\" title=\"YouTube video player\" frameborder=\"0\" allow=\"accelerometer; autoplay; clipboard-write; encrypted-media; gyroscope; picture-in-picture\" allowfullscreen></iframe>"
      ],
      "text/plain": [
       "<IPython.core.display.HTML object>"
      ]
     },
     "execution_count": 17,
     "metadata": {},
     "output_type": "execute_result"
    }
   ],
   "source": [
    "from IPython.display import HTML\n",
    "\n",
    "HTML('<iframe width=\"560\" height=\"315\" src=\"https://www.youtube.com/embed/oRRpy-41Or8\" title=\"YouTube video player\" frameborder=\"0\" allow=\"accelerometer; autoplay; clipboard-write; encrypted-media; gyroscope; picture-in-picture\" allowfullscreen></iframe>')"
   ]
  },
  {
   "cell_type": "code",
   "execution_count": 16,
   "metadata": {},
   "outputs": [
    {
     "data": {
      "text/html": [
       "\n",
       "<h3>Links para os Vídeos do YouTube</h3>\n",
       "<p>Como os vídeos têm restrições, clique nos links abaixo para abri-los diretamente no YouTube:</p>\n",
       "<ul>\n",
       "  <li>\n",
       "    <a href=\"https://www.youtube.com/watch?v=tTq6Tofmo7E\" target=\"_blank\">Abrir Vídeo 1</a>\n",
       "    (Este pedia login por provável restrição de idade)\n",
       "  </li>\n",
       "  <li>\n",
       "    <a href=\"https://www.youtube.com/watch?v=oRRpy-41Or8\" target=\"_blank\">Abrir Vídeo 2</a>\n",
       "    (Este estava indisponível por ter a incorporação desativada)\n",
       "  </li>\n",
       "</ul>\n"
      ],
      "text/plain": [
       "<IPython.core.display.HTML object>"
      ]
     },
     "execution_count": 16,
     "metadata": {},
     "output_type": "execute_result"
    }
   ],
   "source": [
    "from IPython.display import HTML\n",
    "\n",
    "# HTML para criar links formatados para os vídeos\n",
    "html_links = \"\"\"\n",
    "<h3>Links para os Vídeos do YouTube</h3>\n",
    "<p>Como os vídeos têm restrições, clique nos links abaixo para abri-los diretamente no YouTube:</p>\n",
    "<ul>\n",
    "  <li>\n",
    "    <a href=\"https://www.youtube.com/watch?v=tTq6Tofmo7E\" target=\"_blank\">Abrir Vídeo 1</a>\n",
    "    (Este pedia login por provável restrição de idade)\n",
    "  </li>\n",
    "  <li>\n",
    "    <a href=\"https://www.youtube.com/watch?v=oRRpy-41Or8\" target=\"_blank\">Abrir Vídeo 2</a>\n",
    "    (Este estava indisponível por ter a incorporação desativada)\n",
    "  </li>\n",
    "</ul>\n",
    "\"\"\"\n",
    "\n",
    "HTML(html_links)"
   ]
  }
 ],
 "metadata": {
  "kernelspec": {
   "display_name": "Python 3",
   "language": "python",
   "name": "python3"
  },
  "language_info": {
   "codemirror_mode": {
    "name": "ipython",
    "version": 3
   },
   "file_extension": ".py",
   "mimetype": "text/x-python",
   "name": "python",
   "nbconvert_exporter": "python",
   "pygments_lexer": "ipython3",
   "version": "3.13.7"
  }
 },
 "nbformat": 4,
 "nbformat_minor": 2
}
