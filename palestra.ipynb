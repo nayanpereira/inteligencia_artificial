{
 "cells": [
  {
   "cell_type": "code",
   "execution_count": 10,
   "metadata": {},
   "outputs": [
    {
     "ename": "SyntaxError",
     "evalue": "invalid syntax (1376913191.py, line 1)",
     "output_type": "error",
     "traceback": [
      "  \u001b[36mCell\u001b[39m\u001b[36m \u001b[39m\u001b[32mIn[10]\u001b[39m\u001b[32m, line 1\u001b[39m\n\u001b[31m    \u001b[39m\u001b[31mInteligência artificial\u001b[39m\n                 ^\n\u001b[31mSyntaxError\u001b[39m\u001b[31m:\u001b[39m invalid syntax\n"
     ]
    }
   ],
   "source": [
    "Inteligência artificial\n"
   ]
  },
  {
   "cell_type": "code",
   "execution_count": null,
   "metadata": {},
   "outputs": [],
   "source": [
    "- Inteligência Artificial é a imitação da vida\n",
    "- 1950: os primeiros computadores construindo a história da IA\n",
    "- Inverno da IA: empolgaçãgito seguido por uma desilusão \n",
    "- Ia baseada em lógica fgoi perdendo espaço para uma IA baseada em dados e estatística \n",
    "- Machine Learning aplicada ao comércio\n",
    "- Redes neurais, big data (clound computer e Databricks)\n",
    "- \"maquina Viva\" : mitologia, grecia antiga, china \n",
    "- XVII: Dispositivos \"Autômatos\"    \n",
    "- Filosofos- pensamento humano pode ser simulado por simbolos\n",
    "- Alan turing  (1912-1954): teste máquina de turing (máquina tem ou não tem inteligência similar a humana)\n",
    "- Quem você considera ser inteligênte:  \n",
    "- Linguistica \n",
    "- Artistica \n",
    "- Númerica \n",
    "- Sensorial \n",
    "- Emocional \n",
    "- Física \n",
    "- Reflexiva \n",
    "\"Eu sei que sou inteligênte porque eu sei que nada sei\" Socrátes"
   ]
  },
  {
   "cell_type": "markdown",
   "metadata": {},
   "source": [
    "## Data Driven\n"
   ]
  },
  {
   "cell_type": "markdown",
   "metadata": {},
   "source": [
    "- Uma empresa orientada a dados \n",
    "- Vocês já possuem dados, mas utilizão em uma visão datadrive \n",
    "- Netflix\n",
    "- Spotify \n",
    "- Wall Mart"
   ]
  },
  {
   "cell_type": "markdown",
   "metadata": {},
   "source": [
    "# DataSet Games "
   ]
  },
  {
   "cell_type": "markdown",
   "metadata": {},
   "source": [
    "# DataSet Filmes \n",
    "\n",
    "- Amazon prime\n",
    "- disney Plus   \n",
    "- HBO\n",
    "- Max"
   ]
  },
  {
   "cell_type": "markdown",
   "metadata": {},
   "source": [
    "#   Google Maps                 \n",
    " - Probabilidade de diferentes rotas \n",
    " - 4 possibilidades de caminhos  "
   ]
  },
  {
   "cell_type": "markdown",
   "metadata": {},
   "source": [
    "# Filmes \n",
    "\n",
    "- Entreterimento sob demanda\n",
    "- Navegação rm busca de um filme "
   ]
  },
  {
   "cell_type": "markdown",
   "metadata": {},
   "source": [
    "# Dataset games "
   ]
  },
  {
   "cell_type": "markdown",
   "metadata": {},
   "source": [
    "- A importancia do DataSet  \"de o empressário manter dados\"\n",
    "- Data driven - Uma cultura orientada a dados  "
   ]
  },
  {
   "cell_type": "code",
   "execution_count": null,
   "metadata": {},
   "outputs": [],
   "source": [
    "! pip intal pandas "
   ]
  }
 ],
 "metadata": {
  "kernelspec": {
   "display_name": "venv",
   "language": "python",
   "name": "python3"
  },
  "language_info": {
   "codemirror_mode": {
    "name": "ipython",
    "version": 3
   },
   "file_extension": ".py",
   "mimetype": "text/x-python",
   "name": "python",
   "nbconvert_exporter": "python",
   "pygments_lexer": "ipython3",
   "version": "3.13.7"
  }
 },
 "nbformat": 4,
 "nbformat_minor": 2
}
