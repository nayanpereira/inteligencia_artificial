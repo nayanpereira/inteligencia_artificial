{
 "cells": [
  {
   "cell_type": "code",
   "execution_count": null,
   "metadata": {},
   "outputs": [],
   "source": [
    "Inteligência artificial\n"
   ]
  },
  {
   "cell_type": "code",
   "execution_count": null,
   "metadata": {},
   "outputs": [],
   "source": [
    "- Inteligência Artificial é a imitação da vida\n",
    "- 1950: os primeiros computadores construindo a história da IA\n",
    "- Inverno da IA: empolgação seguido por uma desilusão \n",
    "- Ia baseada em lógica fgoi perdendo espaço para uma IA baseada em dados e estatística \n",
    "- Machine Learning aplicada ao comércio\n",
    "- Redes neurais, big data (clound computer e Databricks)\n",
    "- \"maquina Viva\" : mitologia, grecia antiga, china \n",
    "- XVII: Dispositivos \"Autômatos\"    \n",
    "- Filosofos- pensamento humano pode ser simulado por simbolos\n",
    "- Alan turing  (1912-1954): teste máquina de turing (máquina tem ou não tem inteligência similar a humana)\n",
    "- Quem você considera ser inteligênte:  \n",
    "- Linguistica \n",
    "- Artistica \n",
    "- Númerica \n",
    "- Sensorial \n",
    "- Emocional \n",
    "- Física \n",
    "- Reflexiva \n",
    "\"Eu sei que sou inteligênte porque eu sei que nada sei\" Socrátes"
   ]
  },
  {
   "cell_type": "code",
   "execution_count": null,
   "metadata": {},
   "outputs": [],
   "source": []
  }
 ],
 "metadata": {
  "language_info": {
   "name": "python"
  }
 },
 "nbformat": 4,
 "nbformat_minor": 2
}
