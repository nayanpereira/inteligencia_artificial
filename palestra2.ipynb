{
 "cells": [
  {
   "cell_type": "markdown",
   "id": "fb63b6b2",
   "metadata": {},
   "source": [
    "# Agentes Inteligentes: A Essência da IA Moderna\n"
   ]
  },
  {
   "cell_type": "markdown",
   "id": "478b81cb",
   "metadata": {},
   "source": [
    "## A Inteligência Artificial (IA) em Contexto\n",
    "* A IA é um campo da ciência da computação dedicado à criação de sistemas inteligentes e máquinas com capacidade de raciocínio.\n",
    "* O objetivo é criar sistemas com comportamento inteligente autônomo.\n",
    "* O marco oficial do nascimento da IA como campo de estudo foi o Seminário de Dartmouth, no verão de 1955.\n",
    "\n",
    "### O que são Agentes Inteligentes (AIs)?\n",
    "* Agentes inteligentes são programas ou entidades que percebem seu ambiente e agem para maximizar suas chances de sucesso.\n",
    "* Eles combinam técnicas de IA para perceber, processar informações e tomar decisões de forma autônoma.\n",
    "* Os agentes operam com base em um modelo de racionalidade para otimizar resultados.\n",
    "\n",
    "### Aplicações Cotidianas\n",
    "* Agentes Inteligentes estão presentes no nosso dia a dia, como no Google Maps, Google Assistant, Alexa e outros assistentes virtuais.\n"
   ]
  },
  {
   "cell_type": "markdown",
   "id": "d3588440",
   "metadata": {},
   "source": [
    "## Anatomia e Ciclo de Funcionamento de um Agente\n",
    "\n",
    "### O Ciclo de Vida de um Agente Inteligente\n",
    "Todo Agente Inteligente segue um ciclo fundamental para interagir com o ambiente.\n",
    "\n",
    "1.  **Percepção (Sensores)**\n",
    "    * Captação de informações do ambiente.\n",
    "    * Utiliza **Sensores** (dispositivos de entrada) como microfone, câmera, ou teclado.\n",
    "2.  **Raciocínio (Processador)**\n",
    "    * Processamento das informações captadas.\n",
    "    * Consulta a bancos de dados e tomada de decisões.\n",
    "    * A unidade de raciocínio é o **Processador**.\n",
    "3.  **Ação (Atuadores)**\n",
    "    * Execução da resposta.\n",
    "    * Realizada através de **Atuadores** (dispositivos de saída), como alto-falantes, tela ou motores.\n",
    "\n",
    "### Exemplo Prático: Assistente Virtual\n",
    "1.  **Percepção:** Capta a voz do usuário e converte áudio em texto (reconhecimento de fala).\n",
    "2.  **Raciocínio:** Processa o pedido, consulta preferências do usuário e identifica o conteúdo.\n",
    "3.  **Ação:** Inicia a reprodução da música em uma plataforma.\n",
    "\n",
    "<img src=\"dataset/fotoA2.png\" width=\"600\" height=\"600\">"
   ]
  },
  {
   "cell_type": "markdown",
   "id": "793b2168",
   "metadata": {},
   "source": [
    "## Agentes Tradicionais vs. Agentes Inteligentes\n",
    "\n",
    "### Racionalidade: Adaptação vs. Fixação\n",
    "A principal distinção reside na capacidade de adaptação e otimização.\n",
    "\n",
    "| Característica | Agente Tradicional (Comum) | Agente Inteligente (AI) |\n",
    "| :--- | :--- | :--- |\n",
    "| **Programação** | Segue regras fixas e pré-programadas | Utiliza modelo de racionalidade adaptativo |\n",
    "| **Decisão** | Baseada em condições simples (\"se-então\") | Analisa dados e otimiza resultados |\n",
    "| **Comportamento** | Previsível e limitado | Adaptativo e otimizado |\n",
    "| **Ambiente** | Adequado para tarefas simples e repetitivas | Necessário para ambientes complexos e dinâmicos |\n",
    "| **Exemplo** | Termostato de geladeira | Carro autônomo, robô aspirador, assistente virtual |. \n",
    "#\n",
    "\n",
    "<img src=\"dataset/fotoA3.png\" width=\"600\" height=\"600\">"
   ]
  },
  {
   "cell_type": "markdown",
   "id": "88c7df29",
   "metadata": {},
   "source": [
    "# Classificação dos Agentes Inteligentes\n",
    "\n",
    "### Tipos de Agentes (Segundo Norvig e Russell)\n",
    "A escolha do tipo de agente depende da complexidade do problema e dos recursos disponíveis.\n",
    "\n",
    "| Tipo de Agente | Descrição e Foco | Exemplo de Aplicação |\n",
    "| :--- | :--- | :--- |\n",
    "| **Baseado em Regras** | Tomam decisões seguindo um conjunto pré-definido de regras simples e explícitas. Oferecem transparência no processo decisório. | Termostatos simples, Chatbots com respostas pré-programadas. |\n",
    "| **Baseado em Modelos** | Utilizam representações internas (memória) do ambiente para inferir estados e manter um histórico. Podem antecipar resultados de ações. | Robô aspirador que constrói um mapa do ambiente para planejar a limpeza. |\n",
    "| **Baseado em Objetivos** | Operam com base em metas específicas, avaliando caminhos para alcançá-las. | Aplicativos de navegação que calculam rotas para um destino. |\n",
    "| **Baseado em Utilidade** | Avaliam múltiplas possibilidades e escolhem a opção que maximiza um critério de desempenho (ex: segurança, tempo, satisfação). | Sistemas de recomendação que otimizam a satisfação do usuário. |\n",
    "\n",
    "---\n",
    "\n",
    "<img src=\"dataset/fotoA4A5.png\" width=\"600\" height=\"600\">"
   ]
  },
  {
   "cell_type": "markdown",
   "id": "0a76f9f0",
   "metadata": {},
   "source": [
    "# Classificação dos Agentes Inteligentes \n",
    "\n",
    "### Tipos de Agentes (Segundo Norvig e Russell)\n",
    "A escolha do tipo de agente depende da complexidade do problema e dos recursos disponíveis.\n",
    "\n",
    "| Tipo de Agente | Descrição e Foco | Exemplo de Aplicação |\n",
    "| :--- | :--- | :--- |\n",
    "| **Baseado em Regras** | Tomam decisões seguindo um conjunto pré-definido de regras simples e explícitas. Oferecem transparência no processo decisório. | Termostatos simples, Chatbots com respostas pré-programadas. |\n",
    "| **Baseado em Modelos** | Utilizam representações internas (memória) do ambiente para inferir estados e manter um histórico. Podem antecipar resultados de ações. | Robô aspirador que constrói um mapa do ambiente para planejar a limpeza. |\n",
    "| **Baseado em Objetivos** | Operam com base em metas específicas, avaliando caminhos para alcançá-las. | Aplicativos de navegação que calculam rotas para um destino. |\n",
    "| **Baseado em Utilidade** | Avaliam múltiplas possibilidades e escolhem a opção que maximiza um critério de desempenho (ex: segurança, tempo, satisfação). | Sistemas de recomendação que otimizam a satisfação do usuário. |\n"
   ]
  },
  {
   "cell_type": "markdown",
   "id": "1a415e51",
   "metadata": {},
   "source": [
    "# Tecnologias Habilitadoras\n",
    "\n",
    "### Aprendizado de Máquina (ML) e LLMs\n",
    "\n",
    "#### Aprendizado de Máquina (ML)\n",
    "* Permite que os sistemas aprendam a partir de dados e melhorem com a experiência, sem serem explicitamente programados.\n",
    "* **Baseado em dados:** Identifica padrões em grandes volumes de informações.\n",
    "* Os avanços computacionais (GPUs e TPUs) viabilizaram algoritmos complexos de aprendizado, como as Redes Neurais Profundas.\n",
    "\n",
    "#### Modelos de Linguagem de Grande Porte (LLMs)\n",
    "* São modelos de IA treinados em vastas quantidades de dados textuais.\n",
    "* São capazes de processar, compreender e gerar textos em linguagem natural com alto nível de sofisticação.\n",
    "* **Exemplos:** ChatGPT, Claude, Gemini.\n",
    "* Revolucionaram a interação com sistemas inteligentes, tornando-os mais naturais.\n",
    "\n",
    "#### Integração de Abordagens\n",
    "* A combinação de diferentes metodologias de IA (como ML, sistemas baseados em regras e estratégias de busca) é crucial para sistemas mais eficientes.\n",
    "* Um agente pode integrar: Agentes de Percepção, Agentes de Raciocínio (frequentemente usando LLMs) e Agentes de Memória.\n",
    "* Ferramentas como **Frameworks de Orquestração** (ex: LangChain) auxiliam na coordenação desses agentes.\n"
   ]
  },
  {
   "cell_type": "markdown",
   "id": "d2033cc0",
   "metadata": {},
   "source": [
    "# Aplicações de Agentes Inteligentes\n",
    "\n",
    "### Agentes em Ação\n",
    "\n",
    "| Domínio | Exemplo de Aplicação | Como o Agente Age |\n",
    "| :--- | :--- | :--- |\n",
    "| **Web e E-commerce** | Personalização de conteúdo em sites de notícias. Sistemas de recomendação. | Seleciona e organiza conteúdo baseado no histórico de leitura e preferências do usuário. Combina regras e algoritmos de ML para sugerir produtos personalizados. |\n",
    "| **Saúde** | Diagnósticos médicos. | Sistemas especialistas que codificam conhecimento humano em regras para auxiliar na tomada de decisões (Ex: MYCIN). |\n",
    "| **Logística e Robótica**| Otimização de rotas. Veículos autônomos. | Algoritmos de busca e otimização para encontrar o caminho mais eficiente. Agentes que combinam objetivos (chegar ao destino) e utilidade (segurança, conforto). |\n",
    "| **Interação Humana**| Chatbots e assistentes conversacionais. | Respondem dúvidas e oferecem suporte em tempo real, utilizando LLMs para compreender nuances da linguagem. |\n"
   ]
  },
  {
   "cell_type": "markdown",
   "id": "6227884f",
   "metadata": {},
   "source": [
    "# Algoritmos e Lógica no Coração do Agente\n",
    "\n",
    "### A Base Computacional\n",
    "Para que um Agente Inteligente execute suas ações, ele depende de fundamentos da computação:\n",
    "\n",
    "#### Algoritmos\n",
    "* Sequências bem definidas de passos que o agente segue para alcançar um objetivo.\n",
    "* Na computação, definem regras e instruções que devem ser precisas e detalhadas.\n",
    "* **Exemplos:** Algoritmos de recomendação (coleta de dados, análise de padrões, personalização, feedback).\n",
    "\n",
    "#### Lógica de Programação\n",
    "* Campo que aplica os conceitos de algoritmos para criar programas.\n",
    "* É a tradução do passo a passo para uma linguagem que o computador possa interpretar.\n",
    "* Dominar a lógica de programação é fundamental para transformar problemas em soluções computacionais eficientes.\n"
   ]
  },
  {
   "cell_type": "markdown",
   "id": "6ebc0c24",
   "metadata": {},
   "source": [
    "# Agentes Inteligentes e o Futuro da IA\n",
    "* Agentes inteligentes são a essência da IA moderna, combinando diversas técnicas para processar informações, tomar decisões e executar ações de forma racional.\n",
    "* A escolha do melhor agente (baseado em regras, modelos, objetivos ou utilidade) depende da natureza do problema e dos recursos disponíveis.\n",
    "* A tendência é a **abordagem híbrida**, onde diferentes tipos de agentes e tecnologias (como LLMs) se integram para maximizar a eficiência e a adaptabilidade do sistema.\n",
    "* O **custo computacional** é uma consideração crucial, exigindo otimização e o uso inteligente de recursos para sistemas avançados.\n"
   ]
  },
  {
   "cell_type": "markdown",
   "id": "e2f0844e",
   "metadata": {},
   "source": [
    "<video controls width=\"600\">\n",
    "    <source src=\"dataset/video1.mp4\" type=\"video/mp4\">\n",
    "    Seu navegador não suporta tag de vídeo.\n",
    "</video>\n",
    "\n"
   ]
  },
  {
   "cell_type": "markdown",
   "id": "8a14b623",
   "metadata": {},
   "source": [
    "<video controls width=\"600\">\n",
    "    <source src=\"dataset/video2.mp4\" type=\"video/mp4\">\n",
    "    Seu navegador não suporta a tag de vídeo.\n",
    "</video>\n",
    "\n"
   ]
  }
 ],
 "metadata": {
  "kernelspec": {
   "display_name": "Python 3",
   "language": "python",
   "name": "python3"
  },
  "language_info": {
   "codemirror_mode": {
    "name": "ipython",
    "version": 3
   },
   "file_extension": ".py",
   "mimetype": "text/x-python",
   "name": "python",
   "nbconvert_exporter": "python",
   "pygments_lexer": "ipython3",
   "version": "3.13.7"
  }
 },
 "nbformat": 4,
 "nbformat_minor": 5
}
